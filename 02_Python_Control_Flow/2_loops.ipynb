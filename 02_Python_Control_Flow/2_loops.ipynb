{
 "cells": [
  {
   "cell_type": "code",
   "execution_count": 5,
   "metadata": {},
   "outputs": [
    {
     "name": "stdout",
     "output_type": "stream",
     "text": [
      "0 1 2 3 4 "
     ]
    }
   ],
   "source": [
    "# for loop\n",
    "\n",
    "for i in range(5):\n",
    "    print(i, end=\" \")"
   ]
  },
  {
   "cell_type": "code",
   "execution_count": 9,
   "metadata": {},
   "outputs": [
    {
     "name": "stdout",
     "output_type": "stream",
     "text": [
      "1 2 3 4 5 6 7 8 9 \n",
      "1 3 5 7 9 \n",
      "10 9 8 7 6 5 4 3 2 1 "
     ]
    }
   ],
   "source": [
    "# range with step --------> range(start, stop, step)\n",
    "\n",
    "for i in range(1, 10, 1):\n",
    "    print(i, end=\" \")\n",
    "\n",
    "print()\n",
    "\n",
    "for i in range(1, 10, 2):\n",
    "    print(i, end=\" \")\n",
    "\n",
    "print()\n",
    "\n",
    "for i in range(10, 0, -1):\n",
    "    print(i, end=\" \")"
   ]
  },
  {
   "cell_type": "code",
   "execution_count": 11,
   "metadata": {},
   "outputs": [
    {
     "name": "stdout",
     "output_type": "stream",
     "text": [
      "D | e | e | p | e | n | d | r | a |   | P | a | r | m | a | r | "
     ]
    }
   ],
   "source": [
    "# strings \n",
    "\n",
    "name = \"Deependra Parmar\"\n",
    "\n",
    "for i in name:\n",
    "    print(i, end=\" | \")"
   ]
  },
  {
   "cell_type": "code",
   "execution_count": 16,
   "metadata": {},
   "outputs": [
    {
     "name": "stdout",
     "output_type": "stream",
     "text": [
      "0 1 2 3 4 5 6 7 8 9 10 "
     ]
    }
   ],
   "source": [
    "# while loop in python\n",
    "\n",
    "iterator = 0\n",
    "\n",
    "while iterator <= 10:\n",
    "    print(iterator, end=\" \")\n",
    "    iterator += 1"
   ]
  },
  {
   "cell_type": "code",
   "execution_count": 18,
   "metadata": {},
   "outputs": [
    {
     "name": "stdout",
     "output_type": "stream",
     "text": [
      "0 1 2 3 4 "
     ]
    }
   ],
   "source": [
    "# Loop control statements\n",
    "# 1. break: used to exits from the loop pre-maturely.\n",
    "\n",
    "for i in range(10):\n",
    "    if i == 5:\n",
    "        break\n",
    "    print(i, end=\" \")"
   ]
  },
  {
   "cell_type": "code",
   "execution_count": 20,
   "metadata": {},
   "outputs": [
    {
     "name": "stdout",
     "output_type": "stream",
     "text": [
      "0 2 4 6 8 "
     ]
    }
   ],
   "source": [
    "# 2. continue statement: used to skip a particular iteration \n",
    "\n",
    "for i in range(10):\n",
    "    if i % 2 == 1:\n",
    "        continue        # skips when i is odd so, prints even values of i\n",
    "    \n",
    "    print(i, end=\" \")"
   ]
  },
  {
   "cell_type": "code",
   "execution_count": 24,
   "metadata": {},
   "outputs": [
    {
     "name": "stdout",
     "output_type": "stream",
     "text": [
      "0 1 2 3 4 5 6 7 8 9 "
     ]
    }
   ],
   "source": [
    "# 3. pass statement: does nothing for a particular condition\n",
    "\n",
    "for i in range(10):\n",
    "    if i == 5:\n",
    "        pass # DOES NOTHING\n",
    "\n",
    "    print(i, end=\" \")"
   ]
  },
  {
   "cell_type": "code",
   "execution_count": 27,
   "metadata": {},
   "outputs": [
    {
     "name": "stdout",
     "output_type": "stream",
     "text": [
      "[i: 0, j: 0] | [i: 0, j: 1] | [i: 0, j: 2] | [i: 0, j: 3] | [i: 0, j: 4] | [i: 1, j: 0] | [i: 1, j: 1] | [i: 1, j: 2] | [i: 1, j: 3] | [i: 1, j: 4] | [i: 2, j: 0] | [i: 2, j: 1] | [i: 2, j: 2] | [i: 2, j: 3] | [i: 2, j: 4] | [i: 3, j: 0] | [i: 3, j: 1] | [i: 3, j: 2] | [i: 3, j: 3] | [i: 3, j: 4] | [i: 4, j: 0] | [i: 4, j: 1] | [i: 4, j: 2] | [i: 4, j: 3] | [i: 4, j: 4] | "
     ]
    }
   ],
   "source": [
    "# Nested loop: loop inside a loop\n",
    "\n",
    "for i in range(5):\n",
    "    for j in range(5):\n",
    "        print(f\"[i: {i}, j: {j}]\", end=\" | \")"
   ]
  },
  {
   "cell_type": "code",
   "execution_count": 29,
   "metadata": {},
   "outputs": [
    {
     "name": "stdout",
     "output_type": "stream",
     "text": [
      "Sum calculated using for loop:  55\n",
      "Sum calculated using while loop:  55\n"
     ]
    }
   ],
   "source": [
    "# Calculate the sum of first n natural numbers using a while loop\n",
    "\n",
    "num = int(input(\"Enter the number: \"))\n",
    "forSum = 0\n",
    "\n",
    "for i in range(num+1):\n",
    "    forSum += i\n",
    "\n",
    "print(\"Sum calculated using for loop: \", forSum)\n",
    "\n",
    "# _________________________________________________________________\n",
    "\n",
    "whileSum = 0\n",
    "iterator = 0\n",
    "\n",
    "while iterator <= num:\n",
    "    whileSum += iterator\n",
    "    iterator += 1\n",
    "\n",
    "print(\"Sum calculated using while loop: \", whileSum)"
   ]
  },
  {
   "cell_type": "code",
   "execution_count": 32,
   "metadata": {},
   "outputs": [
    {
     "name": "stdout",
     "output_type": "stream",
     "text": [
      "2 3 5 7 11 13 17 19 23 29 31 37 41 43 47 53 59 61 67 71 73 79 83 89 97 "
     ]
    }
   ],
   "source": [
    "# Prime numbers between 1 and 100\n",
    "\n",
    "for num in range(2,101):\n",
    "        isPrime = True\n",
    "        for i in range(2,num):\n",
    "            if num % i == 0:\n",
    "                  isPrime = False\n",
    "            \n",
    "        if isPrime:\n",
    "            print(num, end=\" \")"
   ]
  }
 ],
 "metadata": {
  "kernelspec": {
   "display_name": "Python 3",
   "language": "python",
   "name": "python3"
  },
  "language_info": {
   "codemirror_mode": {
    "name": "ipython",
    "version": 3
   },
   "file_extension": ".py",
   "mimetype": "text/x-python",
   "name": "python",
   "nbconvert_exporter": "python",
   "pygments_lexer": "ipython3",
   "version": "3.10.16"
  }
 },
 "nbformat": 4,
 "nbformat_minor": 2
}
