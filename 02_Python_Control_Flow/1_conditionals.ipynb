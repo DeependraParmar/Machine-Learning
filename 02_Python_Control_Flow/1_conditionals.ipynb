{
 "cells": [
  {
   "cell_type": "code",
   "execution_count": 1,
   "metadata": {},
   "outputs": [],
   "source": [
    "# Conditionals are statements which are executed when certain condition is logically true or false."
   ]
  },
  {
   "cell_type": "code",
   "execution_count": 4,
   "metadata": {},
   "outputs": [
    {
     "name": "stdout",
     "output_type": "stream",
     "text": [
      "You are eligible to drive and vote.\n"
     ]
    }
   ],
   "source": [
    "# if statement: executes the code inside the block if the condition is true.\n",
    "\n",
    "age = 20\n",
    "\n",
    "if age >= 18:\n",
    "    print(\"You are eligible to drive and vote.\")"
   ]
  },
  {
   "cell_type": "code",
   "execution_count": 7,
   "metadata": {},
   "outputs": [
    {
     "name": "stdout",
     "output_type": "stream",
     "text": [
      "You are not elgible to vote\n"
     ]
    }
   ],
   "source": [
    "# if else statements\n",
    "\n",
    "age = 16\n",
    "\n",
    "if age >= 18:\n",
    "    print(\"You are eligible to vote\")\n",
    "else:\n",
    "    print(\"You are not elgible to vote\")"
   ]
  },
  {
   "cell_type": "code",
   "execution_count": 8,
   "metadata": {},
   "outputs": [
    {
     "name": "stdout",
     "output_type": "stream",
     "text": [
      "c is the largest number\n"
     ]
    }
   ],
   "source": [
    "# elif statements: helps to check multiple condition in one flow \n",
    "\n",
    "a = 10; b = 20; c = 30\n",
    "\n",
    "if a > b and a > c:\n",
    "    print(\"a is the largest number\")\n",
    "elif b > c and b > a:\n",
    "    print(\"b is the largest number\")\n",
    "else:\n",
    "    print(\"c is the largest number\")"
   ]
  },
  {
   "cell_type": "code",
   "execution_count": 11,
   "metadata": {},
   "outputs": [
    {
     "name": "stdout",
     "output_type": "stream",
     "text": [
      "The number is POSITIVE\n",
      "The number is EVEN\n"
     ]
    }
   ],
   "source": [
    "# Nested conditional statements: in order to check whether the number is positive or negative. If its positive, also mention whether its odd or even.\n",
    "\n",
    "num = int(input(\"Enter the value of the number: \"))\n",
    "\n",
    "if num >= 0:\n",
    "    print(\"The number is POSITIVE\")\n",
    "\n",
    "    if num % 2 == 0:\n",
    "        print(\"The number is EVEN\")\n",
    "    else:\n",
    "        print(\"The number is ODD\")\n",
    "\n",
    "else:\n",
    "    print(\"The number is NEGATIVE or ZERO\")"
   ]
  }
 ],
 "metadata": {
  "kernelspec": {
   "display_name": "Python 3",
   "language": "python",
   "name": "python3"
  },
  "language_info": {
   "codemirror_mode": {
    "name": "ipython",
    "version": 3
   },
   "file_extension": ".py",
   "mimetype": "text/x-python",
   "name": "python",
   "nbconvert_exporter": "python",
   "pygments_lexer": "ipython3",
   "version": "3.10.16"
  }
 },
 "nbformat": 4,
 "nbformat_minor": 2
}
