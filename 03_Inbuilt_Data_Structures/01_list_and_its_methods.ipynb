{
 "cells": [
  {
   "cell_type": "code",
   "execution_count": 2,
   "metadata": {},
   "outputs": [],
   "source": [
    "# Lists are ordered, heterogenous and mutable collection of elements"
   ]
  },
  {
   "cell_type": "code",
   "execution_count": 3,
   "metadata": {},
   "outputs": [
    {
     "name": "stdout",
     "output_type": "stream",
     "text": [
      "<class 'list'>\n"
     ]
    }
   ],
   "source": [
    "# simple list\n",
    "\n",
    "list1 = []\n",
    "print(type(list1))"
   ]
  },
  {
   "cell_type": "code",
   "execution_count": 4,
   "metadata": {},
   "outputs": [
    {
     "name": "stdout",
     "output_type": "stream",
     "text": [
      "['Aditya', 'Aarav', 'Aashutosh', 'Deependra', 'Raghav']\n"
     ]
    }
   ],
   "source": [
    "# Homogenous list\n",
    "\n",
    "names = [\"Aditya\", \"Aarav\", \"Aashutosh\", \"Deependra\", \"Raghav\"]\n",
    "print(names)"
   ]
  },
  {
   "cell_type": "code",
   "execution_count": 5,
   "metadata": {},
   "outputs": [
    {
     "name": "stdout",
     "output_type": "stream",
     "text": [
      "[1, 3, 'hello', True, 2.934]\n"
     ]
    }
   ],
   "source": [
    "# Heterogenous list\n",
    "\n",
    "mixed_list = [1, 3, \"hello\", True, 2.9340]\n",
    "print(mixed_list)"
   ]
  },
  {
   "cell_type": "code",
   "execution_count": 6,
   "metadata": {},
   "outputs": [
    {
     "name": "stdout",
     "output_type": "stream",
     "text": [
      "Aditya, Aarav\n"
     ]
    }
   ],
   "source": [
    "# accessing elements of list \n",
    "\n",
    "print(names[0] + \", \" + names[1]) # indexing can be used -------> zero based indexing...."
   ]
  },
  {
   "cell_type": "code",
   "execution_count": 7,
   "metadata": {},
   "outputs": [
    {
     "name": "stdout",
     "output_type": "stream",
     "text": [
      "Deependra\n"
     ]
    }
   ],
   "source": [
    "# accessing from reverse index\n",
    "\n",
    "print(names[-2])"
   ]
  },
  {
   "cell_type": "code",
   "execution_count": 8,
   "metadata": {},
   "outputs": [
    {
     "name": "stdout",
     "output_type": "stream",
     "text": [
      "['Aarav', 'Aashutosh', 'Deependra', 'Raghav']\n",
      "['Aarav', 'Aashutosh']\n",
      "['Raghav']\n"
     ]
    }
   ],
   "source": [
    "# accessing using slicing\n",
    "\n",
    "print(names[1:]) # starting from 1 index to end\n",
    "print(names[1:3]) # from 1 to less than 3\n",
    "print(names[-1:]) # starting from -1 to end"
   ]
  },
  {
   "cell_type": "code",
   "execution_count": 9,
   "metadata": {},
   "outputs": [
    {
     "name": "stdout",
     "output_type": "stream",
     "text": [
      "Aditya | Aarav | Aashutosh | Deependra | Raghav | "
     ]
    }
   ],
   "source": [
    "# printing the list using for loop\n",
    "\n",
    "for name in names:\n",
    "    print(name, end=\" | \")"
   ]
  },
  {
   "cell_type": "code",
   "execution_count": 10,
   "metadata": {},
   "outputs": [
    {
     "name": "stdout",
     "output_type": "stream",
     "text": [
      "Before:  ['Aditya', 'Aarav', 'Aashutosh', 'Deependra', 'Raghav']\n",
      "After:  ['Aditya Paliwal', 'Aarav', 'Aashutosh', 'Deependra', 'Raghav']\n"
     ]
    }
   ],
   "source": [
    "# Modifying the list elements\n",
    "\n",
    "print(\"Before: \", names)\n",
    "names[0] = \"Aditya Paliwal\"\n",
    "print(\"After: \", names)"
   ]
  },
  {
   "cell_type": "code",
   "execution_count": 11,
   "metadata": {},
   "outputs": [
    {
     "name": "stdout",
     "output_type": "stream",
     "text": [
      "Appended:  ['Aditya Paliwal', 'Aarav', 'Aashutosh', 'Deependra', 'Raghav', 'Suryakumar']\n",
      "Inserted at index 1:  ['Aditya Paliwal', 'Aarav Singh Chouhan', 'Aarav', 'Aashutosh', 'Deependra', 'Raghav', 'Suryakumar']\n"
     ]
    }
   ],
   "source": [
    "# list methods\n",
    "\n",
    "names.append(\"Suryakumar\") # adds an item to the end\n",
    "print(\"Appended: \", names)\n",
    "\n",
    "names.insert(1, \"Aarav Singh Chouhan\") # puts element at first index\n",
    "print(\"Inserted at index 1: \", names)"
   ]
  },
  {
   "cell_type": "code",
   "execution_count": 12,
   "metadata": {},
   "outputs": [
    {
     "name": "stdout",
     "output_type": "stream",
     "text": [
      "['Aditya Paliwal', 'Aarav Singh Chouhan', 'Aarav', 'Aashutosh', 'Deependra', 'Raghav']\n"
     ]
    }
   ],
   "source": [
    "names.remove(\"Suryakumar\") # removes the first occurence of the item from the list\n",
    "print(names)"
   ]
  },
  {
   "cell_type": "code",
   "execution_count": 13,
   "metadata": {},
   "outputs": [
    {
     "name": "stdout",
     "output_type": "stream",
     "text": [
      "Raghav\n",
      "['Aditya Paliwal', 'Aarav Singh Chouhan', 'Aarav', 'Aashutosh', 'Deependra']\n"
     ]
    }
   ],
   "source": [
    "print(names.pop()) # remove and return the last element of the list\n",
    "print(names)"
   ]
  },
  {
   "cell_type": "code",
   "execution_count": 14,
   "metadata": {},
   "outputs": [
    {
     "name": "stdout",
     "output_type": "stream",
     "text": [
      "['Aditya Paliwal', 'Aarav Singh Chouhan', 'Aarav', 'Aashutosh', 'Deependra']\n",
      "4\n"
     ]
    }
   ],
   "source": [
    "print(names)\n",
    "print(names.index(\"Deependra\")) # returns the index of the element"
   ]
  },
  {
   "cell_type": "code",
   "execution_count": 15,
   "metadata": {},
   "outputs": [
    {
     "name": "stdout",
     "output_type": "stream",
     "text": [
      "0\n"
     ]
    }
   ],
   "source": [
    "print(names.count(\"Suryakumar\"))"
   ]
  },
  {
   "cell_type": "code",
   "execution_count": 16,
   "metadata": {},
   "outputs": [
    {
     "name": "stdout",
     "output_type": "stream",
     "text": [
      "['Aarav', 'Aarav Singh Chouhan', 'Aashutosh', 'Aditya Paliwal', 'Deependra']\n"
     ]
    }
   ],
   "source": [
    "names.sort() # sorts the list in ascending order\n",
    "print(names)"
   ]
  },
  {
   "cell_type": "code",
   "execution_count": 17,
   "metadata": {},
   "outputs": [
    {
     "name": "stdout",
     "output_type": "stream",
     "text": [
      "['Deependra', 'Aditya Paliwal', 'Aashutosh', 'Aarav Singh Chouhan', 'Aarav']\n"
     ]
    }
   ],
   "source": [
    "names.reverse() # reverses the list\n",
    "print(names)"
   ]
  },
  {
   "cell_type": "code",
   "execution_count": 18,
   "metadata": {},
   "outputs": [
    {
     "name": "stdout",
     "output_type": "stream",
     "text": [
      "[]\n"
     ]
    }
   ],
   "source": [
    "names.clear() # clear the list by removing all the elements of the list\n",
    "print(names)"
   ]
  }
 ],
 "metadata": {
  "kernelspec": {
   "display_name": "Python 3",
   "language": "python",
   "name": "python3"
  },
  "language_info": {
   "codemirror_mode": {
    "name": "ipython",
    "version": 3
   },
   "file_extension": ".py",
   "mimetype": "text/x-python",
   "name": "python",
   "nbconvert_exporter": "python",
   "pygments_lexer": "ipython3",
   "version": "3.10.16"
  }
 },
 "nbformat": 4,
 "nbformat_minor": 2
}
