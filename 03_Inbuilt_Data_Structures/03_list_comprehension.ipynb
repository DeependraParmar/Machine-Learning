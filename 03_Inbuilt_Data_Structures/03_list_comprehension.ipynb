{
 "cells": [
  {
   "cell_type": "markdown",
   "metadata": {},
   "source": [
    "### List Comprehension\n",
    "\n",
    "- Make changes and modify the list using a common rule or formula.\n",
    "- Despite using different lists, list comprehension helps utilize memory efficiently. \n",
    "- Perform all the operations in the list itself.\n",
    "\n",
    "> - Basic Syntax: ***[expression for item in iterable]*** <br/>\n",
    "> - With Conditional Logic: ***[expression for item in iterable if condition]*** <br/>\n",
    "> - Nested List comprehension: ***[expression for item1 in iterable1 for item2 in iterable2]***\n"
   ]
  },
  {
   "cell_type": "code",
   "execution_count": 3,
   "metadata": {},
   "outputs": [
    {
     "name": "stdout",
     "output_type": "stream",
     "text": [
      "Even list is:  [2, 4, 6, 8, 10, 12, 14, 16, 18, 20]\n",
      "Odd list is:  [1, 3, 5, 7, 9, 11, 13, 15, 17, 19]\n",
      "Square list is:  [1, 4, 9, 16, 25, 36, 49, 64, 81, 100]\n",
      "Cube list is:  [1, 8, 27, 64, 125, 216, 343, 512, 729, 1000]\n"
     ]
    }
   ],
   "source": [
    "# creating a list using list comprehension\n",
    "\n",
    "even = []; odd = []; square = []; cubes = [] # initialized different empty lists\n",
    "\n",
    "for i in range(1, 11):\n",
    "    even.append(2*i) # putting even numbers in\n",
    "    odd.append(2*i - 1) # putting odd numbers in\n",
    "    square.append(i**2)\n",
    "    cubes.append(i**3)\n",
    "\n",
    "print(\"Even list is: \", even)\n",
    "print(\"Odd list is: \", odd)\n",
    "print(\"Square list is: \", square)\n",
    "print(\"Cube list is: \", cubes)"
   ]
  },
  {
   "cell_type": "code",
   "execution_count": 7,
   "metadata": {},
   "outputs": [
    {
     "data": {
      "text/plain": [
       "[2, 4, 6, 8, 10, 12, 14, 16, 18, 20]"
      ]
     },
     "execution_count": 7,
     "metadata": {},
     "output_type": "execute_result"
    }
   ],
   "source": [
    "# using list comprehension efficiently\n",
    "\n",
    "[2*i for i in range(1, 11)]"
   ]
  },
  {
   "cell_type": "code",
   "execution_count": 9,
   "metadata": {},
   "outputs": [
    {
     "data": {
      "text/plain": [
       "[1, 3, 5, 7, 9, 11, 13, 15, 17, 19]"
      ]
     },
     "execution_count": 9,
     "metadata": {},
     "output_type": "execute_result"
    }
   ],
   "source": [
    "[2*i-1 for i in range(1,11)]"
   ]
  },
  {
   "cell_type": "code",
   "execution_count": 10,
   "metadata": {},
   "outputs": [
    {
     "data": {
      "text/plain": [
       "[1, 4, 9, 16, 25, 36, 49, 64, 81, 100]"
      ]
     },
     "execution_count": 10,
     "metadata": {},
     "output_type": "execute_result"
    }
   ],
   "source": [
    "[i**2 for i in range(1,11)]"
   ]
  },
  {
   "cell_type": "code",
   "execution_count": 12,
   "metadata": {},
   "outputs": [
    {
     "data": {
      "text/plain": [
       "[1, 4, 9, 16, 36, 49, 64, 81, 121, 144, 169, 196]"
      ]
     },
     "execution_count": 12,
     "metadata": {},
     "output_type": "execute_result"
    }
   ],
   "source": [
    "# List comprehension with condition: square of all the number till 15 except multiples of 5\n",
    "\n",
    "[i**2 for i in range(1,16) if i%5 != 0]"
   ]
  },
  {
   "cell_type": "code",
   "execution_count": 20,
   "metadata": {},
   "outputs": [
    {
     "data": {
      "text/plain": [
       "[[1, 'a'],\n",
       " [1, 'b'],\n",
       " [1, 'c'],\n",
       " [2, 'a'],\n",
       " [2, 'b'],\n",
       " [2, 'c'],\n",
       " [3, 'a'],\n",
       " [3, 'b'],\n",
       " [3, 'c']]"
      ]
     },
     "execution_count": 20,
     "metadata": {},
     "output_type": "execute_result"
    }
   ],
   "source": [
    "# Nested List comprehension: Creating pairs using nested list comprehension\n",
    "\n",
    "[[i,j] for i in [1, 2, 3] for j in ['a', 'b', 'c']]"
   ]
  },
  {
   "cell_type": "code",
   "execution_count": 21,
   "metadata": {},
   "outputs": [
    {
     "name": "stdout",
     "output_type": "stream",
     "text": [
      "[5, 5, 1, 2, 9, 6]\n"
     ]
    }
   ],
   "source": [
    "# List comprehension using function calls - INBUILT FUNCTIONS FOR LC\n",
    "\n",
    "words = [\"hello\", \"world\", \"I\", \"am\", \"Deependra\", \"Parmar\"]\n",
    "lengths = [len(word) for word in words]\n",
    "print(lengths)"
   ]
  }
 ],
 "metadata": {
  "kernelspec": {
   "display_name": "Python 3",
   "language": "python",
   "name": "python3"
  },
  "language_info": {
   "codemirror_mode": {
    "name": "ipython",
    "version": 3
   },
   "file_extension": ".py",
   "mimetype": "text/x-python",
   "name": "python",
   "nbconvert_exporter": "python",
   "pygments_lexer": "ipython3",
   "version": "3.10.16"
  }
 },
 "nbformat": 4,
 "nbformat_minor": 2
}
