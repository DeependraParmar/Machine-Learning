{
 "cells": [
  {
   "cell_type": "markdown",
   "metadata": {},
   "source": [
    "### Dictionary in Python\n",
    "\n",
    "- stores data in the form of ***key:value*** pairs.\n",
    "- Unordered data-structure.\n",
    "- Keys must be unique and they cannot be redundant.\n",
    "- Keys are immutable in nature but value corresponding to a particular key can be changed"
   ]
  },
  {
   "cell_type": "code",
   "execution_count": 38,
   "metadata": {},
   "outputs": [
    {
     "name": "stdout",
     "output_type": "stream",
     "text": [
      "{}\n",
      "<class 'dict'>\n"
     ]
    }
   ],
   "source": [
    "# Creating dictionary\n",
    "emp_dict = {}\n",
    "print(emp_dict)\n",
    "print(type(emp_dict))"
   ]
  },
  {
   "cell_type": "code",
   "execution_count": 39,
   "metadata": {},
   "outputs": [
    {
     "name": "stdout",
     "output_type": "stream",
     "text": [
      "{'enroll': 56, 'name': 'Deependra Parmar', 'age': 20, 'grade': 8.9}\n"
     ]
    }
   ],
   "source": [
    "student = {\n",
    "    \"enroll\": 56,\n",
    "    \"name\": \"Deependra Parmar\",\n",
    "    \"age\": 20, \n",
    "    \"grade\": 8.9,\n",
    "}\n",
    "\n",
    "print(student)"
   ]
  },
  {
   "cell_type": "code",
   "execution_count": 40,
   "metadata": {},
   "outputs": [
    {
     "name": "stdout",
     "output_type": "stream",
     "text": [
      "{'name': 'Deependra Parmar'}\n"
     ]
    }
   ],
   "source": [
    "# when you override the value of any key later, the value is overriden\n",
    "student1 = {\n",
    "    \"name\": \"Deependra\",\n",
    "    \"name\": \"Deependra Parmar\" # value of name later update to new one\n",
    "}\n",
    "\n",
    "print(student1)"
   ]
  },
  {
   "cell_type": "code",
   "execution_count": 41,
   "metadata": {},
   "outputs": [
    {
     "name": "stdout",
     "output_type": "stream",
     "text": [
      "56\n",
      "Deependra Parmar\n",
      "20\n",
      "8.9\n",
      "\n",
      "Deependra Parmar\n",
      "None\n",
      "Not Available\n"
     ]
    }
   ],
   "source": [
    "# accessing dictionary elements\n",
    "\n",
    "print(student[\"enroll\"])\n",
    "print(student[\"name\"])\n",
    "print(student[\"age\"])\n",
    "print(student[\"grade\"])\n",
    "\n",
    "# using get() method of dictionary\n",
    "print()\n",
    "print(student.get('name'))\n",
    "print(student.get('lastname')) # getting something that is not there gives NONE\n",
    "print(student.get('lastname', \"Not Available\")) # getting something that is not there gives default value that is Not Available"
   ]
  },
  {
   "cell_type": "code",
   "execution_count": 42,
   "metadata": {},
   "outputs": [
    {
     "name": "stdout",
     "output_type": "stream",
     "text": [
      "enroll: 56\n",
      "name: Deependra Parmar\n",
      "age: 20\n",
      "grade: 8.9\n"
     ]
    }
   ],
   "source": [
    "# iterating dictionary using a loop\n",
    "\n",
    "for key in student:\n",
    "    print(f\"{key}: {student[key]}\")"
   ]
  },
  {
   "cell_type": "code",
   "execution_count": 62,
   "metadata": {},
   "outputs": [
    {
     "name": "stdout",
     "output_type": "stream",
     "text": [
      "56 | Deependra Parmar | 20 | CSIT | \n",
      "56 | Deependra Parmar | 20 | CSIT | \n",
      "enroll: 56 | name: Deependra Parmar | age: 20 | department: CSIT | \n"
     ]
    }
   ],
   "source": [
    "# iterating using keys, values and items\n",
    "k = student.keys()\n",
    "v = student.values()\n",
    "i = student.items()\n",
    "\n",
    "# with keys\n",
    "for key in k:\n",
    "    print(student[key], end=\" | \")\n",
    "\n",
    "print()\n",
    "\n",
    "\n",
    "# with values\n",
    "for value in v:\n",
    "    print(value, end=\" | \")\n",
    "\n",
    "print()\n",
    "\n",
    "\n",
    "# pairs with items i.e. key-value pairs\n",
    "for key, value in i:\n",
    "    print(f\"{key}: {value}\", end=\" | \")\n",
    "\n",
    "print()"
   ]
  },
  {
   "cell_type": "code",
   "execution_count": 43,
   "metadata": {},
   "outputs": [
    {
     "name": "stdout",
     "output_type": "stream",
     "text": [
      "{'enroll': 56, 'name': 'Deependra Parmar', 'age': 20, 'grade': 8.9}\n"
     ]
    }
   ],
   "source": [
    "# Modifying dictionary element: add, update and delete elements but key need to be unique\n",
    "\n",
    "print(student)"
   ]
  },
  {
   "cell_type": "code",
   "execution_count": 44,
   "metadata": {},
   "outputs": [
    {
     "name": "stdout",
     "output_type": "stream",
     "text": [
      "{'enroll': 56, 'name': 'Deependra Parmar', 'age': 20, 'grade': 8.9, 'department': 'CSIT'}\n",
      "CSIT\n"
     ]
    }
   ],
   "source": [
    "# adding a new value corresponding to a new key\n",
    "\n",
    "student[\"department\"] = \"CSIT\"\n",
    "print(student)\n",
    "print(student[\"department\"])"
   ]
  },
  {
   "cell_type": "code",
   "execution_count": 45,
   "metadata": {},
   "outputs": [
    {
     "name": "stdout",
     "output_type": "stream",
     "text": [
      "{'enroll': 56, 'name': 'Deependra Parmar', 'age': 20, 'department': 'CSIT'}\n"
     ]
    }
   ],
   "source": [
    "# deleting an existing key and value pair\n",
    " \n",
    "del student[\"grade\"]\n",
    "print(student)"
   ]
  },
  {
   "cell_type": "code",
   "execution_count": 47,
   "metadata": {},
   "outputs": [
    {
     "name": "stdout",
     "output_type": "stream",
     "text": [
      "dict_keys(['enroll', 'name', 'age', 'department'])\n"
     ]
    }
   ],
   "source": [
    "# Common dictionary methods\n",
    "\n",
    "# 1. getting all the keys of the dictionaries \n",
    "keys = student.keys();\n",
    "print(keys)"
   ]
  },
  {
   "cell_type": "code",
   "execution_count": 48,
   "metadata": {},
   "outputs": [
    {
     "name": "stdout",
     "output_type": "stream",
     "text": [
      "dict_values([56, 'Deependra Parmar', 20, 'CSIT'])\n"
     ]
    }
   ],
   "source": [
    "# 2. getting all the values of the dictionary\n",
    "\n",
    "values = student.values()\n",
    "print(values)"
   ]
  },
  {
   "cell_type": "code",
   "execution_count": 50,
   "metadata": {},
   "outputs": [
    {
     "name": "stdout",
     "output_type": "stream",
     "text": [
      "dict_items([('enroll', 56), ('name', 'Deependra Parmar'), ('age', 20), ('department', 'CSIT')])\n"
     ]
    }
   ],
   "source": [
    "# 3. getting all the key value pairs in the form of list of tuples\n",
    "\n",
    "items = student.items()\n",
    "print(items)"
   ]
  },
  {
   "cell_type": "code",
   "execution_count": 52,
   "metadata": {},
   "outputs": [
    {
     "name": "stdout",
     "output_type": "stream",
     "text": [
      "{'enroll': 56, 'name': 'Deependra Parmar', 'age': 20, 'department': 'CSIT'}\n",
      "{'enroll': 56, 'name': 'Deependra Parmar', 'age': 20, 'department': 'CSIT'}\n"
     ]
    }
   ],
   "source": [
    "# 4. Creating a deep copy of dictionary \n",
    "\n",
    "student_copy = student\n",
    "print(student)\n",
    "print(student_copy)"
   ]
  },
  {
   "cell_type": "code",
   "execution_count": 54,
   "metadata": {},
   "outputs": [
    {
     "name": "stdout",
     "output_type": "stream",
     "text": [
      "{'enroll': 56, 'name': 'Deependra Parmar Updated', 'age': 20, 'department': 'CSIT'}\n",
      "{'enroll': 56, 'name': 'Deependra Parmar Updated', 'age': 20, 'department': 'CSIT'}\n"
     ]
    }
   ],
   "source": [
    "# As student_copy is the deep copy of student, the values changed in the student will also reflect to student_copy\n",
    "\n",
    "student[\"name\"] = \"Deependra Parmar Updated\"\n",
    "print(student)\n",
    "print(student_copy)"
   ]
  },
  {
   "cell_type": "code",
   "execution_count": 55,
   "metadata": {},
   "outputs": [
    {
     "name": "stdout",
     "output_type": "stream",
     "text": [
      "{'enroll': 56, 'name': 'Deependra Parmar', 'age': 20, 'department': 'CSIT'}\n",
      "{'enroll': 56, 'name': 'Deependra Parmar Updated', 'age': 20, 'department': 'CSIT'}\n"
     ]
    }
   ],
   "source": [
    "# In order to create a shallow copy, you can do this\n",
    "\n",
    "student_shallow_copy = student.copy() # allocates a different memory for the copy\n",
    "\n",
    "student[\"name\"] = \"Deependra Parmar\"\n",
    "print(student) # changes made in main original copy\n",
    "print(student_shallow_copy) # changes not getting reflected in the shallow copy"
   ]
  },
  {
   "cell_type": "code",
   "execution_count": 67,
   "metadata": {},
   "outputs": [
    {
     "name": "stdout",
     "output_type": "stream",
     "text": [
      "{'student1': {'name': 'Aditya Paliwal', 'age': 19, 'dep': 'CSIT'}, 'student2': {'name': 'Aashutosh Soni', 'age': 20, 'dep': 'CSIT'}, 'student3': {'name': 'Aarav Singh Chouhan', 'age': 21, 'dep': 'CSIT'}, 'student4': {'name': 'Deependra Parmar', 'age': 21, 'dep': 'CSIT'}}\n"
     ]
    }
   ],
   "source": [
    "# Nested dictionaries\n",
    "\n",
    "students = {\n",
    "    \"student1\": {\n",
    "        \"name\": \"Aditya Paliwal\",\n",
    "        \"age\": 19,\n",
    "        \"dep\": \"CSIT\" \n",
    "    },\n",
    "    \"student2\": {\n",
    "        \"name\": \"Aashutosh Soni\",\n",
    "        \"age\": 20,\n",
    "        \"dep\": \"CSIT\" \n",
    "    },\n",
    "    \"student3\": {\n",
    "        \"name\": \"Aarav Singh Chouhan\",\n",
    "        \"age\": 21,\n",
    "        \"dep\": \"CSIT\" \n",
    "    },\n",
    "    \"student4\": {\n",
    "        \"name\": \"Deependra Parmar\",\n",
    "        \"age\": 21,\n",
    "        \"dep\": \"CSIT\" \n",
    "    }\n",
    "}\n",
    "\n",
    "print(students)"
   ]
  },
  {
   "cell_type": "code",
   "execution_count": 71,
   "metadata": {},
   "outputs": [
    {
     "name": "stdout",
     "output_type": "stream",
     "text": [
      "Aditya Paliwal\n",
      "Aashutosh Soni\n",
      "Aarav Singh Chouhan\n",
      "Deependra Parmar\n"
     ]
    }
   ],
   "source": [
    "# accessing nested dictionaries\n",
    "\n",
    "print(students['student1']['name'])\n",
    "print(students['student2']['name'])\n",
    "print(students['student3']['name'])\n",
    "print(students['student4']['name'])"
   ]
  },
  {
   "cell_type": "code",
   "execution_count": 74,
   "metadata": {},
   "outputs": [
    {
     "name": "stdout",
     "output_type": "stream",
     "text": [
      "Name: Aditya Paliwal\n",
      "Age: 19\n",
      "Dep: CSIT\n",
      "\n",
      "Name: Aashutosh Soni\n",
      "Age: 20\n",
      "Dep: CSIT\n",
      "\n",
      "Name: Aarav Singh Chouhan\n",
      "Age: 21\n",
      "Dep: CSIT\n",
      "\n",
      "Name: Deependra Parmar\n",
      "Age: 21\n",
      "Dep: CSIT\n",
      "\n"
     ]
    }
   ],
   "source": [
    "# iterating over nested dictionaries\n",
    "\n",
    "for student_id, student_info in students.items():\n",
    "    for key, value in student_info.items():\n",
    "        print(f\"{key.capitalize()}: {value}\")\n",
    "    print()"
   ]
  }
 ],
 "metadata": {
  "kernelspec": {
   "display_name": "Python 3",
   "language": "python",
   "name": "python3"
  },
  "language_info": {
   "codemirror_mode": {
    "name": "ipython",
    "version": 3
   },
   "file_extension": ".py",
   "mimetype": "text/x-python",
   "name": "python",
   "nbconvert_exporter": "python",
   "pygments_lexer": "ipython3",
   "version": "3.10.16"
  }
 },
 "nbformat": 4,
 "nbformat_minor": 2
}
