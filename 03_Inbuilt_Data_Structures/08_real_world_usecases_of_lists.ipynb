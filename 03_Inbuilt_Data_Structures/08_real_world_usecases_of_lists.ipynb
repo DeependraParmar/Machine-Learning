{
 "cells": [
  {
   "cell_type": "markdown",
   "metadata": {},
   "source": [
    "### Real-world usecases of Lists in Python\n",
    "\n",
    "Lists are highly-versatile and most used data-structure in Python. It is also easy to use in nature with almost all the features required for a usecase.\n",
    "\n",
    "Example 01: Manage a todo list\n",
    "\n",
    "- Create a todo list to keep track of tasks"
   ]
  },
  {
   "cell_type": "code",
   "execution_count": 1,
   "metadata": {},
   "outputs": [
    {
     "name": "stdout",
     "output_type": "stream",
     "text": [
      "YOUR TODOS ARE : \n",
      "\n",
      "Exercise in the morning\n",
      "Meditate after exercising\n",
      "Study DSA\n",
      "Start learning and practicing Python for ML\n"
     ]
    }
   ],
   "source": [
    "todo = []\n",
    "\n",
    "command = int(input(\"Enter the command: (0: exit and 1: continue)\"))\n",
    "\n",
    "while command != 0:\n",
    "    task = input(\"Enter the todo here: \")\n",
    "    todo.append(task)\n",
    "\n",
    "    command = int(input(\"Enter the command: (0: exit and 1: continue)\"))\n",
    "\n",
    "print(\"YOUR TODOS ARE : \")\n",
    "print()\n",
    "\n",
    "for t in todo:\n",
    "    print(t)"
   ]
  }
 ],
 "metadata": {
  "kernelspec": {
   "display_name": "Python 3",
   "language": "python",
   "name": "python3"
  },
  "language_info": {
   "codemirror_mode": {
    "name": "ipython",
    "version": 3
   },
   "file_extension": ".py",
   "mimetype": "text/x-python",
   "name": "python",
   "nbconvert_exporter": "python",
   "pygments_lexer": "ipython3",
   "version": "3.10.16"
  }
 },
 "nbformat": 4,
 "nbformat_minor": 2
}
