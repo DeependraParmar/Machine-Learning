{
 "cells": [
  {
   "cell_type": "markdown",
   "metadata": {},
   "source": [
    "### Tuples in Python\n",
    "\n",
    "- Ordered collection of elements of items\n",
    "- Immutable in nature\n",
    "- Can store heterogenous data"
   ]
  },
  {
   "cell_type": "code",
   "execution_count": 2,
   "metadata": {},
   "outputs": [
    {
     "name": "stdout",
     "output_type": "stream",
     "text": [
      "()\n",
      "<class 'tuple'>\n"
     ]
    }
   ],
   "source": [
    "# creating a tuple\n",
    "\n",
    "tuple1 = ()\n",
    "print(tuple1)\n",
    "print(type(tuple1))"
   ]
  },
  {
   "cell_type": "code",
   "execution_count": 3,
   "metadata": {},
   "outputs": [
    {
     "name": "stdout",
     "output_type": "stream",
     "text": [
      "(1, 2, 3, 4, 5, 6)\n"
     ]
    }
   ],
   "source": [
    "# Homogenous tuple\n",
    "tuple2 = (1, 2, 3, 4, 5, 6)\n",
    "print(tuple2)"
   ]
  },
  {
   "cell_type": "code",
   "execution_count": 4,
   "metadata": {},
   "outputs": [
    {
     "name": "stdout",
     "output_type": "stream",
     "text": [
      "(1, 'hello', True, 2.3930294, [10, 20, 30])\n"
     ]
    }
   ],
   "source": [
    "# Heterogenous tuple \n",
    "\n",
    "tuple3 = (1, \"hello\", True, 2.3930294, [10, 20, 30])\n",
    "print(tuple3)"
   ]
  },
  {
   "cell_type": "code",
   "execution_count": 7,
   "metadata": {},
   "outputs": [
    {
     "name": "stdout",
     "output_type": "stream",
     "text": [
      "List:  [1, 2, 3, 4, 5]  and the tuple:  (1, 2, 3, 4, 5)\n"
     ]
    }
   ],
   "source": [
    "# converting list into tuple and vice-versa\n",
    "\n",
    "list1 = [1, 2, 3, 4, 5]\n",
    "tuple_from_list = tuple(list1)\n",
    "\n",
    "print(\"List: \", list1, \" and the tuple: \",  tuple_from_list)"
   ]
  },
  {
   "cell_type": "code",
   "execution_count": 8,
   "metadata": {},
   "outputs": [
    {
     "name": "stdout",
     "output_type": "stream",
     "text": [
      "1\n"
     ]
    }
   ],
   "source": [
    "# accessing tuple elements\n",
    "print(tuple2[0])"
   ]
  },
  {
   "cell_type": "code",
   "execution_count": 9,
   "metadata": {},
   "outputs": [],
   "source": [
    "# slicing and indexing will be same as that of the list data-structure"
   ]
  },
  {
   "cell_type": "code",
   "execution_count": 10,
   "metadata": {},
   "outputs": [
    {
     "name": "stdout",
     "output_type": "stream",
     "text": [
      "(1, 2, 3, 4, 'a', 'b', 'c', 'd')\n"
     ]
    }
   ],
   "source": [
    "# Interesting thing is that you will not be able to mutate or change any values.\n",
    "# Tuple operations\n",
    "\n",
    "# Concatenation in tuples\n",
    "\n",
    "nums = (1, 2, 3, 4)\n",
    "alphas = ('a', 'b', 'c', 'd')\n",
    "\n",
    "concatenated_tuple = nums + alphas\n",
    "print(concatenated_tuple)"
   ]
  },
  {
   "cell_type": "code",
   "execution_count": 13,
   "metadata": {},
   "outputs": [
    {
     "data": {
      "text/plain": [
       "(1, 2, 3, 4, 1, 2, 3, 4, 1, 2, 3, 4)"
      ]
     },
     "execution_count": 13,
     "metadata": {},
     "output_type": "execute_result"
    }
   ],
   "source": [
    "nums*3 # nums get appended three times"
   ]
  },
  {
   "cell_type": "code",
   "execution_count": 15,
   "metadata": {},
   "outputs": [
    {
     "ename": "TypeError",
     "evalue": "'tuple' object does not support item assignment",
     "output_type": "error",
     "traceback": [
      "\u001b[1;31m---------------------------------------------------------------------------\u001b[0m",
      "\u001b[1;31mTypeError\u001b[0m                                 Traceback (most recent call last)",
      "Cell \u001b[1;32mIn[15], line 3\u001b[0m\n\u001b[0;32m      1\u001b[0m \u001b[38;5;66;03m# Immutable nature of tuples\u001b[39;00m\n\u001b[1;32m----> 3\u001b[0m \u001b[43mnums\u001b[49m\u001b[43m[\u001b[49m\u001b[38;5;241;43m0\u001b[39;49m\u001b[43m]\u001b[49m \u001b[38;5;241m=\u001b[39m \u001b[38;5;241m10\u001b[39m \u001b[38;5;66;03m# cannot be re-assingned or changed.\u001b[39;00m\n",
      "\u001b[1;31mTypeError\u001b[0m: 'tuple' object does not support item assignment"
     ]
    }
   ],
   "source": [
    "# Immutable nature of tuples\n",
    "\n",
    "nums[0] = 10 # cannot be re-assingned or changed."
   ]
  },
  {
   "cell_type": "code",
   "execution_count": 18,
   "metadata": {},
   "outputs": [
    {
     "name": "stdout",
     "output_type": "stream",
     "text": [
      "(1, 2, 3, 4)\n",
      "1\n",
      "2\n"
     ]
    }
   ],
   "source": [
    "# Tuple methods\n",
    "\n",
    "print(nums)\n",
    "print(nums.count(1)) # returns the count of the element in the tuple\n",
    "print(nums.index(3)) # returns the index where the element is present"
   ]
  },
  {
   "cell_type": "code",
   "execution_count": 20,
   "metadata": {},
   "outputs": [
    {
     "name": "stdout",
     "output_type": "stream",
     "text": [
      "(1, 'Hello', 3.2901923, True)\n"
     ]
    }
   ],
   "source": [
    "# Packing and unpacking tuple\n",
    "\n",
    "packed_tuple = 1, \"Hello\", 3.2901923, True # python automatically packs elements into a tuple\n",
    "print(packed_tuple)"
   ]
  },
  {
   "cell_type": "code",
   "execution_count": 22,
   "metadata": {},
   "outputs": [
    {
     "name": "stdout",
     "output_type": "stream",
     "text": [
      "1 Hello 3.2901923 True\n"
     ]
    }
   ],
   "source": [
    "# unpacking a tuple\n",
    "\n",
    "a, b, c, d = packed_tuple\n",
    "print(a, b, c, d)"
   ]
  },
  {
   "cell_type": "code",
   "execution_count": 26,
   "metadata": {},
   "outputs": [
    {
     "name": "stdout",
     "output_type": "stream",
     "text": [
      "1\n",
      "[2, 3, 4, 5]\n",
      "6\n"
     ]
    }
   ],
   "source": [
    "# unpacking a tuple with *\n",
    "\n",
    "numbers = (1, 2, 3, 4, 5 , 6)\n",
    "first, *middle, last = numbers\n",
    "\n",
    "print(first)\n",
    "print(middle) # takes all the remaining elements till the last element\n",
    "print(last)"
   ]
  },
  {
   "cell_type": "code",
   "execution_count": 28,
   "metadata": {},
   "outputs": [
    {
     "name": "stdout",
     "output_type": "stream",
     "text": [
      "1 | 2 | 3 | \n",
      "4 | 5 | 6 | \n",
      "7 | 8 | 9 | \n"
     ]
    }
   ],
   "source": [
    "# Nested tuples\n",
    "\n",
    "nested_tuple = ((1, 2, 3), (4, 5, 6), (7, 8, 9))\n",
    "\n",
    "for tuple in nested_tuple:\n",
    "    for i in tuple:\n",
    "        print(i, end=\" | \")\n",
    "    print()"
   ]
  },
  {
   "cell_type": "code",
   "execution_count": 30,
   "metadata": {},
   "outputs": [
    {
     "name": "stdout",
     "output_type": "stream",
     "text": [
      "6\n"
     ]
    },
    {
     "ename": "IndexError",
     "evalue": "tuple index out of range",
     "output_type": "error",
     "traceback": [
      "\u001b[1;31m---------------------------------------------------------------------------\u001b[0m",
      "\u001b[1;31mIndexError\u001b[0m                                Traceback (most recent call last)",
      "Cell \u001b[1;32mIn[30], line 2\u001b[0m\n\u001b[0;32m      1\u001b[0m \u001b[38;5;28mprint\u001b[39m(nested_tuple[\u001b[38;5;241m1\u001b[39m][\u001b[38;5;241m2\u001b[39m]) \u001b[38;5;66;03m# tuple with index 1 and element with index 2\u001b[39;00m\n\u001b[1;32m----> 2\u001b[0m \u001b[38;5;28mprint\u001b[39m(\u001b[43mnested_tuple\u001b[49m\u001b[43m[\u001b[49m\u001b[38;5;241;43m4\u001b[39;49m\u001b[43m]\u001b[49m[\u001b[38;5;241m4\u001b[39m])\n",
      "\u001b[1;31mIndexError\u001b[0m: tuple index out of range"
     ]
    }
   ],
   "source": [
    "print(nested_tuple[1][2]) # tuple with index 1 and element with index 2\n",
    "print(nested_tuple[4][4]) # accessing tuple element out of range"
   ]
  }
 ],
 "metadata": {
  "kernelspec": {
   "display_name": "Python 3",
   "language": "python",
   "name": "python3"
  },
  "language_info": {
   "codemirror_mode": {
    "name": "ipython",
    "version": 3
   },
   "file_extension": ".py",
   "mimetype": "text/x-python",
   "name": "python",
   "nbconvert_exporter": "python",
   "pygments_lexer": "ipython3",
   "version": "3.10.16"
  }
 },
 "nbformat": 4,
 "nbformat_minor": 2
}
