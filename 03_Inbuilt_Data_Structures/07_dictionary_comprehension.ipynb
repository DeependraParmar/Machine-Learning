{
 "cells": [
  {
   "cell_type": "markdown",
   "metadata": {},
   "source": [
    "### Dictionary Comprehension\n",
    "\n",
    "- used to create dictionary from scratch using a common rule or formula\n",
    "\n",
    "> Basic Syntax: ***[expression item in iterable]***"
   ]
  },
  {
   "cell_type": "code",
   "execution_count": 3,
   "metadata": {},
   "outputs": [
    {
     "data": {
      "text/plain": [
       "{1: 1, 2: 4, 3: 9, 4: 16, 5: 25, 6: 36, 7: 49, 8: 64, 9: 81, 10: 100}"
      ]
     },
     "execution_count": 3,
     "metadata": {},
     "output_type": "execute_result"
    }
   ],
   "source": [
    "# Square of numbers as values with numbers as keys\n",
    "\n",
    "{x: x**2 for x in range(1, 11)}"
   ]
  },
  {
   "cell_type": "code",
   "execution_count": 4,
   "metadata": {},
   "outputs": [
    {
     "data": {
      "text/plain": [
       "{2: 4, 4: 16, 6: 36, 8: 64, 10: 100}"
      ]
     },
     "execution_count": 4,
     "metadata": {},
     "output_type": "execute_result"
    }
   ],
   "source": [
    "# Conditional comprehension: square of only even numbers\n",
    "\n",
    "{ x: x**2 for x in range(1,11) if x%2 == 0}"
   ]
  },
  {
   "cell_type": "code",
   "execution_count": 7,
   "metadata": {},
   "outputs": [
    {
     "name": "stdout",
     "output_type": "stream",
     "text": [
      "{1: 1, 2: 2, 3: 3, 4: 3}\n"
     ]
    }
   ],
   "source": [
    "# Practical examples of dictionary: Use a dict to count the frequency of elements in a list\n",
    "\n",
    "numbers = [1, 2, 2, 3, 3, 3, 4, 4, 4]\n",
    "frequency = {}\n",
    "\n",
    "for number in numbers:\n",
    "    if number in frequency:\n",
    "        frequency[number] += 1\n",
    "        continue\n",
    "\n",
    "    frequency[number] = 1\n",
    "\n",
    "print(frequency)"
   ]
  },
  {
   "cell_type": "code",
   "execution_count": 8,
   "metadata": {},
   "outputs": [
    {
     "name": "stdout",
     "output_type": "stream",
     "text": [
      "{1: 'hey', 2: 'world', 3: 'I am', 4: 'doing', 5: 'great'}\n"
     ]
    }
   ],
   "source": [
    "# Merge two dict into one\n",
    "\n",
    "dict1 = {\n",
    "    1: \"hey\",\n",
    "    2: \"world\"\n",
    "}\n",
    "\n",
    "dict2 = {\n",
    "    3: \"I am\",\n",
    "    4: \"doing\",\n",
    "    5: \"great\"\n",
    "}\n",
    "\n",
    "merged_dict = { **dict1, **dict2 } # **dict1, **dict2 ------> called as keyword arguments and are taken as whole\n",
    "print(merged_dict)"
   ]
  }
 ],
 "metadata": {
  "kernelspec": {
   "display_name": "Python 3",
   "language": "python",
   "name": "python3"
  },
  "language_info": {
   "codemirror_mode": {
    "name": "ipython",
    "version": 3
   },
   "file_extension": ".py",
   "mimetype": "text/x-python",
   "name": "python",
   "nbconvert_exporter": "python",
   "pygments_lexer": "ipython3",
   "version": "3.10.16"
  }
 },
 "nbformat": 4,
 "nbformat_minor": 2
}
