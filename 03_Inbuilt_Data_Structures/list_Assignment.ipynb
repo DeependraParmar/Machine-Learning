{
 "cells": [
  {
   "cell_type": "markdown",
   "metadata": {},
   "source": [
    "### Module 3: Data Structures Assignments\n",
    "### Lesson 3.1: Lists\n",
    "### Assignment 1: Creating and Accessing Lists\n",
    "\n",
    "Create a list of the first 20 positive integers. Print the list."
   ]
  },
  {
   "cell_type": "code",
   "execution_count": 2,
   "metadata": {},
   "outputs": [
    {
     "name": "stdout",
     "output_type": "stream",
     "text": [
      "[1, 2, 3, 4, 5, 6, 7, 8, 9, 10, 11, 12, 13, 14, 15, 16, 17, 18, 19, 20]\n"
     ]
    }
   ],
   "source": [
    "l1 = [x for x in range(1,21)]\n",
    "print(l1)"
   ]
  },
  {
   "cell_type": "markdown",
   "id": "371c82e4",
   "metadata": {},
   "source": [
    "### Assignment 2: Accessing List Elements\n",
    "\n",
    "Print the first, middle, and last elements of the list created in Assignment 1.\n"
   ]
  },
  {
   "cell_type": "code",
   "execution_count": 3,
   "id": "039094e1",
   "metadata": {},
   "outputs": [
    {
     "name": "stdout",
     "output_type": "stream",
     "text": [
      "1\n",
      "[2, 3, 4, 5, 6, 7, 8, 9, 10, 11, 12, 13, 14, 15, 16, 17, 18, 19]\n",
      "20\n"
     ]
    }
   ],
   "source": [
    "first, *middle, last = l1\n",
    "print(first)\n",
    "print(middle)\n",
    "print(last)"
   ]
  },
  {
   "cell_type": "markdown",
   "id": "b54f0686",
   "metadata": {},
   "source": [
    "\n",
    "### Assignment 3: List Slicing\n",
    "\n",
    "Print the first five elements, the last five elements, and the elements from index 5 to 15 of the list created in Assignment 1.\n"
   ]
  },
  {
   "cell_type": "code",
   "execution_count": 4,
   "id": "100042eb",
   "metadata": {},
   "outputs": [
    {
     "name": "stdout",
     "output_type": "stream",
     "text": [
      "[1, 2, 3, 4, 5]\n",
      "[16, 17, 18, 19, 20]\n",
      "[6, 7, 8, 9, 10, 11, 12, 13, 14, 15]\n"
     ]
    }
   ],
   "source": [
    "print(l1[:5])\n",
    "print(l1[15:])\n",
    "print(l1[5:15])"
   ]
  },
  {
   "cell_type": "markdown",
   "id": "e7cfc0b1",
   "metadata": {},
   "source": [
    "\n",
    "### Assignment 4: List Comprehensions\n",
    "\n",
    "Create a new list containing the squares of the first 10 positive integers using a list comprehension. Print the new list.\n"
   ]
  },
  {
   "cell_type": "code",
   "execution_count": 5,
   "id": "29f5fe12",
   "metadata": {},
   "outputs": [
    {
     "data": {
      "text/plain": [
       "[1, 4, 9, 16, 25, 36, 49, 64, 81, 100]"
      ]
     },
     "execution_count": 5,
     "metadata": {},
     "output_type": "execute_result"
    }
   ],
   "source": [
    "[i*i for i in range(1,11)]"
   ]
  },
  {
   "cell_type": "markdown",
   "id": "2d789293",
   "metadata": {},
   "source": [
    "\n",
    "### Assignment 5: Filtering Lists\n",
    "\n",
    "Create a new list containing only the even numbers from the list created in Assignment 1 using a list comprehension. Print the new list.\n"
   ]
  },
  {
   "cell_type": "code",
   "execution_count": 7,
   "id": "76d37d40",
   "metadata": {},
   "outputs": [
    {
     "data": {
      "text/plain": [
       "[2, 4, 6, 8, 10, 12, 14, 16, 18, 20]"
      ]
     },
     "execution_count": 7,
     "metadata": {},
     "output_type": "execute_result"
    }
   ],
   "source": [
    "[i for i in l1 if i%2 == 0]"
   ]
  },
  {
   "cell_type": "markdown",
   "id": "a4f1c050",
   "metadata": {},
   "source": [
    "\n",
    "### Assignment 6: List Methods\n",
    "\n",
    "Create a list of random numbers and sort it in ascending and descending order. Remove the duplicates from the list and print the modified list.\n"
   ]
  },
  {
   "cell_type": "code",
   "execution_count": 13,
   "id": "34ce08e7",
   "metadata": {},
   "outputs": [
    {
     "name": "stdout",
     "output_type": "stream",
     "text": [
      "Sorted list is:  [11, 11, 22, 22, 29, 48, 72, 84, 85, 91, 94]\n",
      "Reverse sorted list is:  [94, 91, 85, 84, 72, 48, 29, 22, 22, 11, 11]\n",
      "List with no duplicates is:  [72, 11, 48, 84, 85, 22, 91, 29, 94]\n"
     ]
    }
   ],
   "source": [
    "l2 = [22, 94, 48, 85,22, 11, 11, 91, 72, 84, 29]\n",
    "\n",
    "l2.sort()\n",
    "print(\"Sorted list is: \", l2)\n",
    "\n",
    "l2.reverse()\n",
    "print(\"Reverse sorted list is: \", l2)\n",
    "\n",
    "print(\"List with no duplicates is: \", list(set(l2)))"
   ]
  },
  {
   "cell_type": "markdown",
   "id": "855a04ff",
   "metadata": {},
   "source": [
    "\n",
    "### Assignment 7: Nested Lists\n",
    "\n",
    "Create a nested list representing a 3x3 matrix and print the matrix. Access and print the element at the second row and third column."
   ]
  },
  {
   "cell_type": "code",
   "execution_count": 14,
   "id": "8eacaa7d",
   "metadata": {},
   "outputs": [
    {
     "name": "stdout",
     "output_type": "stream",
     "text": [
      "6\n"
     ]
    }
   ],
   "source": [
    "matrix = [\n",
    "    [1, 2, 3],\n",
    "    [4, 5, 6],\n",
    "    [7, 8, 9]\n",
    "]\n",
    "\n",
    "print(matrix[1][2])"
   ]
  },
  {
   "cell_type": "markdown",
   "id": "33bbc6ca",
   "metadata": {},
   "source": [
    "### Assignment 8: List of Dictionaries\n",
    "\n",
    "Create a list of dictionaries where each dictionary represents a student with keys 'name' and 'score'. Sort the list of dictionaries by the 'score' in descending order and print the sorted list."
   ]
  },
  {
   "cell_type": "code",
   "execution_count": null,
   "id": "895c2b97",
   "metadata": {},
   "outputs": [],
   "source": [
    "l3 = [{\n",
    "    \n",
    "}]"
   ]
  },
  {
   "cell_type": "markdown",
   "id": "364d3ea3",
   "metadata": {},
   "source": [
    "### Assignment 9: Matrix Transposition\n",
    "\n",
    "Write a function that takes a 3x3 matrix (nested list) as input and returns its transpose. Print the original and transposed matrices.\n",
    "\n",
    "### Assignment 10: Flattening a Nested List\n",
    "\n",
    "Write a function that takes a nested list and flattens it into a single list. Print the original and flattened lists.\n",
    "\n",
    "### Assignment 11: List Manipulation\n",
    "\n",
    "Create a list of the first 10 positive integers. Remove the elements at indices 2, 4, and 6, and insert the element '99' at index 5. Print the modified list.\n",
    "\n",
    "### Assignment 12: List Zipping\n",
    "\n",
    "Create two lists of the same length. Use the `zip` function to combine these lists into a list of tuples and print the result.\n",
    "\n",
    "### Assignment 13: List Reversal\n",
    "\n",
    "Write a function that takes a list and returns a new list with the elements in reverse order. Print the original and reversed lists.\n",
    "\n",
    "### Assignment 14: List Rotation\n",
    "\n",
    "Write a function that rotates a list by n positions. Print the original and rotated lists.\n",
    "\n",
    "### Assignment 15: List Intersection\n",
    "\n",
    "Write a function that takes two lists and returns a new list containing only the elements that are present in both lists. Print the intersected list."
   ]
  }
 ],
 "metadata": {
  "kernelspec": {
   "display_name": "Python 3",
   "language": "python",
   "name": "python3"
  },
  "language_info": {
   "codemirror_mode": {
    "name": "ipython",
    "version": 3
   },
   "file_extension": ".py",
   "mimetype": "text/x-python",
   "name": "python",
   "nbconvert_exporter": "python",
   "pygments_lexer": "ipython3",
   "version": "3.10.16"
  }
 },
 "nbformat": 4,
 "nbformat_minor": 5
}
