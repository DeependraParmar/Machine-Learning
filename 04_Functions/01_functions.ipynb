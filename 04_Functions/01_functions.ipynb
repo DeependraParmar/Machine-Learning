{
 "cells": [
  {
   "cell_type": "markdown",
   "metadata": {},
   "source": [
    "### Functions in Python\n",
    "\n",
    "- block of code for specific task.\n",
    "- organise, reusing and improves readability\n",
    "\n",
    "> Syntax of function:\n",
    ">\n",
    "> def function_name(parameters): <br/>\n",
    ">   \"\"\"Docstring\"\"\" <br/>\n",
    ">   Function body <br/>\n",
    ">   return expression <br/>"
   ]
  },
  {
   "cell_type": "code",
   "execution_count": 1,
   "metadata": {},
   "outputs": [
    {
     "name": "stdout",
     "output_type": "stream",
     "text": [
      "Number is EVEN\n"
     ]
    }
   ],
   "source": [
    "# Function to check whether given number is even or odd.....\n",
    "\n",
    "def checkEvenOdd(n):\n",
    "    \"\"\"This function takes a number and check whether the number is even or odd\"\"\"\n",
    "    if n % 2 == 0:\n",
    "        return True\n",
    "\n",
    "    return False\n",
    "\n",
    "n = int(input(\"Enter the number to check even or odd: \"))\n",
    "\n",
    "if checkEvenOdd(n):\n",
    "    print(\"Number is EVEN\")\n",
    "else:\n",
    "    print(\"Number is ODD\")"
   ]
  },
  {
   "cell_type": "code",
   "execution_count": 2,
   "metadata": {},
   "outputs": [
    {
     "name": "stdout",
     "output_type": "stream",
     "text": [
      "Greatest number among 10, 20, 30 is:  30\n"
     ]
    }
   ],
   "source": [
    "# Function with multiple parameters\n",
    "\n",
    "def largest(a, b, c):\n",
    "    if a > b and a > c:\n",
    "        return a\n",
    "    elif b > a and b > c:\n",
    "        return b\n",
    "    else:\n",
    "        return c\n",
    "\n",
    "print(\"Greatest number among 10, 20, 30 is: \", largest(10, 20, 30))"
   ]
  },
  {
   "cell_type": "code",
   "execution_count": 6,
   "metadata": {},
   "outputs": [
    {
     "name": "stdout",
     "output_type": "stream",
     "text": [
      "Hi, Good Morning Deependra!\n"
     ]
    }
   ],
   "source": [
    "# Function with default parameters\n",
    "\n",
    "def sayHello(name, message = \"Hi, Good Morning\"):\n",
    "    print(f\"{message} {name}!\")\n",
    "\n",
    "sayHello(\"Deependra\")"
   ]
  },
  {
   "cell_type": "code",
   "execution_count": 9,
   "metadata": {},
   "outputs": [
    {
     "name": "stdout",
     "output_type": "stream",
     "text": [
      "1 | 2 | 3 | 4 | 5 | 6 | 7 | 8 | 9 | 10 | Hello | I am good | "
     ]
    }
   ],
   "source": [
    "# Variable Length Arguments\n",
    "# Positional arguments\n",
    "\n",
    "def printNumbers(*args): # *args ------------> POSITIONAL ARGUMENTS\n",
    "    for i in args:\n",
    "        print(i, end=\" | \")\n",
    "\n",
    "    return\n",
    "\n",
    "printNumbers(1, 2, 3, 4, 5, 6, 7, 8, 9, 10, \"Hello\", \"I am good\") "
   ]
  },
  {
   "cell_type": "code",
   "execution_count": 11,
   "metadata": {},
   "outputs": [
    {
     "name": "stdout",
     "output_type": "stream",
     "text": [
      "Name: Deependra Parmar\n",
      "Age: 20\n",
      "Country: India\n"
     ]
    }
   ],
   "source": [
    "# Keyword Argument: In this, all the parameters will be in the form of key-value pairs.\n",
    "\n",
    "def print_details(**kwargs):\n",
    "    for key, value in kwargs.items():\n",
    "        print(f\"{key.capitalize()}: {value}\")\n",
    "    \n",
    "    return\n",
    "\n",
    "print_details(name=\"Deependra Parmar\", age = 20, country = \"India\")"
   ]
  }
 ],
 "metadata": {
  "kernelspec": {
   "display_name": "Python 3",
   "language": "python",
   "name": "python3"
  },
  "language_info": {
   "codemirror_mode": {
    "name": "ipython",
    "version": 3
   },
   "file_extension": ".py",
   "mimetype": "text/x-python",
   "name": "python",
   "nbconvert_exporter": "python",
   "pygments_lexer": "ipython3",
   "version": "3.10.16"
  }
 },
 "nbformat": 4,
 "nbformat_minor": 2
}
