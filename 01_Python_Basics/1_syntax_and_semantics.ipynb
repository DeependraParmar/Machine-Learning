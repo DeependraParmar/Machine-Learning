{
 "cells": [
  {
   "cell_type": "markdown",
   "metadata": {},
   "source": [
    "#### Syntax and Semantics in Python"
   ]
  },
  {
   "cell_type": "code",
   "execution_count": null,
   "metadata": {},
   "outputs": [],
   "source": [
    "## Single line comments using two hashtags\n",
    "\n",
    "'''\n",
    "multiple line comments\n",
    "can be written using\n",
    "three pairs of single codes('')\n",
    "\n",
    "'''"
   ]
  },
  {
   "cell_type": "code",
   "execution_count": 3,
   "metadata": {},
   "outputs": [
    {
     "name": "stdout",
     "output_type": "stream",
     "text": [
      "Deependra Parmar\n"
     ]
    }
   ],
   "source": [
    "## Basic Syntax rules in python\n",
    "\n",
    "\n",
    "## 1. Case Sensitivity: Python is a case sensitive language which  means that two variables name and Name so, ultimately they are different\n",
    "\n",
    "name = \"Deependra\"\n",
    "Name = \"Parmar\"\n",
    "\n",
    "print(name + \" \" + Name)\n"
   ]
  },
  {
   "cell_type": "code",
   "execution_count": 6,
   "metadata": {},
   "outputs": [
    {
     "name": "stdout",
     "output_type": "stream",
     "text": [
      "You are not eligible to drive\n"
     ]
    }
   ],
   "source": [
    "## 2. Indentation in Python: Python uses indentation to define blocks of code. Its does not uses scopes via {} so, consistent use of spaces and tabs(commonly 4 consecutive spaces) are used to create blocks.\n",
    "\n",
    "age = 19\n",
    "\n",
    "if age > 30:\n",
    "    print(\"You can eligible to drive\")\n",
    "else:\n",
    "    print(\"You are not eligible to drive\")"
   ]
  },
  {
   "cell_type": "code",
   "execution_count": 8,
   "metadata": {},
   "outputs": [
    {
     "name": "stdout",
     "output_type": "stream",
     "text": [
      "55\n"
     ]
    }
   ],
   "source": [
    "## 3. Line Continuation\n",
    "total = 1 + 2 + 3 + 4 + 5 + 6 + \\\n",
    "7 + 8 + 9 + 10\n",
    "\n",
    "print(total)"
   ]
  },
  {
   "cell_type": "code",
   "execution_count": 9,
   "metadata": {},
   "outputs": [
    {
     "name": "stdout",
     "output_type": "stream",
     "text": [
      "15\n"
     ]
    }
   ],
   "source": [
    "# 4. Multiple statements in single line\n",
    "\n",
    "x = 5; y = 10; z = x+y\n",
    "print(z)"
   ]
  },
  {
   "cell_type": "code",
   "execution_count": 14,
   "metadata": {},
   "outputs": [
    {
     "name": "stdout",
     "output_type": "stream",
     "text": [
      "<class 'int'>\n",
      "<class 'str'>\n"
     ]
    }
   ],
   "source": [
    "# Understanding semantics in Python Programming Language\n",
    "# 1. Dynamically typed language \n",
    "\n",
    "age = 32\n",
    "name = \"Deependra\"\n",
    "\n",
    "print(type(age))\n",
    "print(type(name))"
   ]
  },
  {
   "cell_type": "code",
   "execution_count": 16,
   "metadata": {},
   "outputs": [
    {
     "name": "stdout",
     "output_type": "stream",
     "text": [
      "<class 'int'>\n",
      "<class 'str'>\n"
     ]
    }
   ],
   "source": [
    "# 2. Type Inferencing in Python \n",
    "\n",
    "variable = 10\n",
    "print(type(variable))\n",
    "\n",
    "variable = \"string\"\n",
    "print(type(variable))"
   ]
  },
  {
   "cell_type": "code",
   "execution_count": 18,
   "metadata": {},
   "outputs": [
    {
     "ename": "IndentationError",
     "evalue": "expected an indented block after 'if' statement on line 5 (2012941148.py, line 6)",
     "output_type": "error",
     "traceback": [
      "\u001b[1;36m  Cell \u001b[1;32mIn[18], line 6\u001b[1;36m\u001b[0m\n\u001b[1;33m    print(age)\u001b[0m\n\u001b[1;37m    ^\u001b[0m\n\u001b[1;31mIndentationError\u001b[0m\u001b[1;31m:\u001b[0m expected an indented block after 'if' statement on line 5\n"
     ]
    }
   ],
   "source": [
    "# What happens if statements are wrongly indented?\n",
    "\n",
    "age = 10\n",
    "\n",
    "if age > 5:\n",
    "print(age)"
   ]
  },
  {
   "cell_type": "code",
   "execution_count": 19,
   "metadata": {},
   "outputs": [
    {
     "name": "stdout",
     "output_type": "stream",
     "text": [
      "Indentation is correct\n",
      "I will be executed\n",
      "Outside the if block\n"
     ]
    }
   ],
   "source": [
    "# Indentation Demonstration\n",
    "\n",
    "if True:\n",
    "    print(\"Indentation is correct\")\n",
    "    \n",
    "    if False:\n",
    "        print(\"I wont' get executed\")\n",
    "    \n",
    "    print(\"I will be executed\")\n",
    "\n",
    "print(\"Outside the if block\")"
   ]
  }
 ],
 "metadata": {
  "kernelspec": {
   "display_name": "base",
   "language": "python",
   "name": "python3"
  },
  "language_info": {
   "codemirror_mode": {
    "name": "ipython",
    "version": 3
   },
   "file_extension": ".py",
   "mimetype": "text/x-python",
   "name": "python",
   "nbconvert_exporter": "python",
   "pygments_lexer": "ipython3",
   "version": "3.10.16"
  }
 },
 "nbformat": 4,
 "nbformat_minor": 2
}
