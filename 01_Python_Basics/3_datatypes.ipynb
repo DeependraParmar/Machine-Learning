{
 "cells": [
  {
   "cell_type": "code",
   "execution_count": 1,
   "metadata": {},
   "outputs": [],
   "source": [
    "## Datatypes: a way to specify the memory which need to be allocated for the data and which type of data the user is going to store in the particular variable.\n",
    "\n",
    "# Primitive Datatypes: \n",
    "#   - Integer\n",
    "#   - Float\n",
    "#   - String\n",
    "#   - Boolean\n",
    "\n",
    "# Non-Primitive Datatypes: \n",
    "#   - Lists\n",
    "#   - Tuples\n",
    "#   - Dictionaries\n",
    "#   - Classes"
   ]
  },
  {
   "cell_type": "code",
   "execution_count": 3,
   "metadata": {},
   "outputs": [
    {
     "name": "stdout",
     "output_type": "stream",
     "text": [
      "20 <class 'int'>\n"
     ]
    }
   ],
   "source": [
    "## Integer\n",
    "\n",
    "integer = 20\n",
    "print(integer, type(integer))"
   ]
  },
  {
   "cell_type": "code",
   "execution_count": 4,
   "metadata": {},
   "outputs": [
    {
     "name": "stdout",
     "output_type": "stream",
     "text": [
      "29.234038 <class 'float'>\n"
     ]
    }
   ],
   "source": [
    "## Float\n",
    "\n",
    "floating = 29.234038\n",
    "print(floating, type(floating))"
   ]
  },
  {
   "cell_type": "code",
   "execution_count": 5,
   "metadata": {},
   "outputs": [
    {
     "name": "stdout",
     "output_type": "stream",
     "text": [
      "Deependra Parmar is a good boy 😅😅 <class 'str'>\n"
     ]
    }
   ],
   "source": [
    "## String\n",
    "\n",
    "string = \"Deependra Parmar is a good boy 😅😅\"\n",
    "print(string, type(string))"
   ]
  },
  {
   "cell_type": "code",
   "execution_count": 6,
   "metadata": {},
   "outputs": [
    {
     "name": "stdout",
     "output_type": "stream",
     "text": [
      "True <class 'bool'>\n"
     ]
    }
   ],
   "source": [
    "## Boolean\n",
    "\n",
    "boolean = True\n",
    "print(boolean, type(boolean))"
   ]
  },
  {
   "cell_type": "code",
   "execution_count": 7,
   "metadata": {},
   "outputs": [
    {
     "data": {
      "text/plain": [
       "bool"
      ]
     },
     "execution_count": 7,
     "metadata": {},
     "output_type": "execute_result"
    }
   ],
   "source": [
    "a = 10\n",
    "b = 20\n",
    "\n",
    "type(a == b)"
   ]
  },
  {
   "cell_type": "code",
   "execution_count": 10,
   "metadata": {},
   "outputs": [
    {
     "name": "stdout",
     "output_type": "stream",
     "text": [
      "Hello5\n"
     ]
    }
   ],
   "source": [
    "# Common Errors \n",
    "# 1. String and integer contacenation error\n",
    "\n",
    "# print(\"Hello\" + 5)\n",
    "\n",
    "# Solution --> Typecast it\n",
    "print(\"Hello\" + str(5))"
   ]
  }
 ],
 "metadata": {
  "kernelspec": {
   "display_name": "Python 3",
   "language": "python",
   "name": "python3"
  },
  "language_info": {
   "codemirror_mode": {
    "name": "ipython",
    "version": 3
   },
   "file_extension": ".py",
   "mimetype": "text/x-python",
   "name": "python",
   "nbconvert_exporter": "python",
   "pygments_lexer": "ipython3",
   "version": "3.10.16"
  }
 },
 "nbformat": 4,
 "nbformat_minor": 2
}
