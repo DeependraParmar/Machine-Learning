{
 "cells": [
  {
   "cell_type": "code",
   "execution_count": 1,
   "metadata": {},
   "outputs": [],
   "source": [
    "## Variables are like containers for storing data in the memory. In python, you need not to explicitly need to specify the type of the variable or data you are going to store in the variable. "
   ]
  },
  {
   "cell_type": "code",
   "execution_count": 2,
   "metadata": {},
   "outputs": [
    {
     "name": "stdout",
     "output_type": "stream",
     "text": [
      "Name:  Deependra\n",
      "Height:  5.7\n",
      "Age:  32\n"
     ]
    }
   ],
   "source": [
    "# Declaring and Assigning values in the variables \n",
    "\n",
    "age = 32\n",
    "height = 5.7\n",
    "name = \"Deependra\"\n",
    "is_student = True\n",
    "\n",
    "# printing the variables\n",
    "\n",
    "print(\"Name: \", name)\n",
    "print(\"Height: \", height)\n",
    "print(\"Age: \", age)"
   ]
  },
  {
   "cell_type": "code",
   "execution_count": 4,
   "metadata": {},
   "outputs": [
    {
     "name": "stdout",
     "output_type": "stream",
     "text": [
      "Deependra Parmar\n"
     ]
    }
   ],
   "source": [
    "## Naming Convenction in Python\n",
    "\n",
    "# 1. Variable name should be descriptive \n",
    "# 2. They should always start with a letter or underscore(_)\n",
    "# 3. It can contain letters, numbers and underscores\n",
    "# 4. Variable name are case-sensitive in nature \n",
    "\n",
    "first_name = \"Deependra\"\n",
    "last_name = \"Parmar\"\n",
    "\n",
    "print(first_name + \" \" + last_name)"
   ]
  },
  {
   "cell_type": "code",
   "execution_count": 6,
   "metadata": {},
   "outputs": [
    {
     "name": "stdout",
     "output_type": "stream",
     "text": [
      "<class 'int'>\n",
      "<class 'str'>\n",
      "<class 'float'>\n",
      "<class 'bool'>\n"
     ]
    }
   ],
   "source": [
    "## Variables and its types: Python is dynamically-typed which meeans that the type of variable is determined at runtime.\n",
    "\n",
    "integer = 20\n",
    "string = \"string\"\n",
    "floating = 20.19302\n",
    "boolean = True\n",
    "\n",
    "print(type(integer))\n",
    "print(type(string))\n",
    "print(type(floating))\n",
    "print(type(boolean))"
   ]
  },
  {
   "cell_type": "code",
   "execution_count": 7,
   "metadata": {},
   "outputs": [
    {
     "name": "stdout",
     "output_type": "stream",
     "text": [
      "<class 'int'>\n",
      "25\n",
      "<class 'str'>\n"
     ]
    }
   ],
   "source": [
    "## Type conversion in python\n",
    "\n",
    "num = 25\n",
    "print(type(age))\n",
    "\n",
    "num_str = str(num)\n",
    "print(num_str)\n",
    "print(type(num_str))"
   ]
  },
  {
   "cell_type": "code",
   "execution_count": 8,
   "metadata": {},
   "outputs": [
    {
     "name": "stdout",
     "output_type": "stream",
     "text": [
      "<class 'int'>\n",
      "25\n"
     ]
    }
   ],
   "source": [
    "str1 = '25'\n",
    "\n",
    "print(type(int(str1)))\n",
    "print(int(str1))"
   ]
  },
  {
   "cell_type": "code",
   "execution_count": 9,
   "metadata": {},
   "outputs": [
    {
     "name": "stdout",
     "output_type": "stream",
     "text": [
      "5\n",
      "32.0\n"
     ]
    }
   ],
   "source": [
    "print(int(height))\n",
    "print(float(age))"
   ]
  },
  {
   "cell_type": "code",
   "execution_count": 11,
   "metadata": {},
   "outputs": [
    {
     "name": "stdout",
     "output_type": "stream",
     "text": [
      "10 :  <class 'int'>\n",
      "Deependra Parmar :  <class 'str'>\n",
      "10.92 :  <class 'float'>\n",
      "True :  <class 'bool'>\n"
     ]
    }
   ],
   "source": [
    "# Dynamic typing in Python\n",
    "\n",
    "variable = 10\n",
    "print(variable, \": \", type(variable))\n",
    "\n",
    "variable = \"Deependra Parmar\"\n",
    "print(variable, \": \", type(variable))\n",
    "\n",
    "variable = 10.92\n",
    "print(variable, \": \", type(variable))\n",
    "\n",
    "variable = True\n",
    "print(variable, \": \", type(variable))"
   ]
  },
  {
   "cell_type": "code",
   "execution_count": 13,
   "metadata": {},
   "outputs": [
    {
     "name": "stdout",
     "output_type": "stream",
     "text": [
      "Your age is:  21\n",
      "<class 'int'>\n"
     ]
    }
   ],
   "source": [
    "## Taking input from the user\n",
    "\n",
    "age = int(input(\"What is your age: \")) # --------------> default type is: string\n",
    "print(\"Your age is: \", age)\n",
    "print(type(age))"
   ]
  },
  {
   "cell_type": "code",
   "execution_count": 14,
   "metadata": {},
   "outputs": [
    {
     "name": "stdout",
     "output_type": "stream",
     "text": [
      "Sum is:  31.0\n",
      "Difference is:  -11.0\n",
      "Product is:  210.0\n",
      "Quotient is:  0.47619047619047616\n",
      "Remainder is:  10.0\n"
     ]
    }
   ],
   "source": [
    "## Exercise of simple calculator\n",
    "\n",
    "num1 = float(input(\"Enter the first number: \"))\n",
    "num2 = float(input(\"Enter the second number: \"))\n",
    "\n",
    "print(\"Sum is: \", num1 + num2)\n",
    "print(\"Difference is: \", num1 - num2)\n",
    "print(\"Product is: \", num1 * num2)\n",
    "print(\"Quotient is: \", num1 / num2)\n",
    "print(\"Remainder is: \", num1 % num2)"
   ]
  },
  {
   "cell_type": "code",
   "execution_count": null,
   "metadata": {},
   "outputs": [],
   "source": []
  },
  {
   "cell_type": "code",
   "execution_count": null,
   "metadata": {},
   "outputs": [],
   "source": []
  }
 ],
 "metadata": {
  "kernelspec": {
   "display_name": "Python 3",
   "language": "python",
   "name": "python3"
  },
  "language_info": {
   "codemirror_mode": {
    "name": "ipython",
    "version": 3
   },
   "file_extension": ".py",
   "mimetype": "text/x-python",
   "name": "python",
   "nbconvert_exporter": "python",
   "pygments_lexer": "ipython3",
   "version": "3.10.16"
  }
 },
 "nbformat": 4,
 "nbformat_minor": 2
}
