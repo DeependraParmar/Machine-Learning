{
 "cells": [
  {
   "cell_type": "code",
   "execution_count": 1,
   "metadata": {},
   "outputs": [],
   "source": [
    "## Operators helps us to perform different type of operation on the operands."
   ]
  },
  {
   "cell_type": "code",
   "execution_count": 2,
   "metadata": {},
   "outputs": [
    {
     "name": "stdout",
     "output_type": "stream",
     "text": [
      "Sum is:  7\n",
      "Difference is:  3\n",
      "Product is:  10\n",
      "Division is:  2.5\n",
      "Floor Division is:  2\n",
      "Remainder is:  1\n",
      "Exponentiation is:  25\n"
     ]
    }
   ],
   "source": [
    "# Arithmetic Operators: \n",
    "\n",
    "num1 = int(input(\"Enter the first number: \"))\n",
    "num2 = int(input(\"Enter the second number: \"))\n",
    "\n",
    "print(\"Sum is: \", num1 + num2 )\n",
    "print(\"Difference is: \", num1 - num2 )\n",
    "print(\"Product is: \", num1 * num2 )\n",
    "print(\"Division is: \", num1 / num2 )\n",
    "print(\"Floor Division is: \", num1 // num2 )\n",
    "print(\"Remainder is: \", num1 % num2 )\n",
    "print(\"Exponentiation is: \", num1 ** num2 )"
   ]
  },
  {
   "cell_type": "code",
   "execution_count": 4,
   "metadata": {},
   "outputs": [
    {
     "name": "stdout",
     "output_type": "stream",
     "text": [
      "num1 == num2:  True\n",
      "num1 > num2:  False\n",
      "num1 >= num2:  True\n",
      "num1 < num2:  False\n",
      "num1 <= num2:  True\n",
      "num1 != num2:  False\n"
     ]
    }
   ],
   "source": [
    "## Comparison Operation: Returns boolean\n",
    "\n",
    "num1 = int(input(\"Enter the first number: \"))\n",
    "num2 = int(input(\"Enter the second number: \"))\n",
    "\n",
    "print(\"num1 == num2: \", num1 == num2)\n",
    "print(\"num1 > num2: \", num1 > num2)\n",
    "print(\"num1 >= num2: \", num1 >= num2)\n",
    "print(\"num1 < num2: \", num1 < num2)\n",
    "print(\"num1 <= num2: \", num1 <= num2)\n",
    "print(\"num1 != num2: \", num1 != num2)"
   ]
  },
  {
   "cell_type": "code",
   "execution_count": 8,
   "metadata": {},
   "outputs": [
    {
     "name": "stdout",
     "output_type": "stream",
     "text": [
      "num1 and num2:  True\n",
      "num1 or num2:  True\n",
      "not of num1:  False\n"
     ]
    }
   ],
   "source": [
    "## Logical Operators: Works on logics\n",
    "\n",
    "num1 = bool(input(\"Enter the first boolean: \"))\n",
    "num2 = bool(input(\"Enter the second boolean: \"))\n",
    "\n",
    "print(\"num1 and num2: \", num1 and num2)\n",
    "print(\"num1 or num2: \", num1 or num2)\n",
    "print(\"not of num1: \", not num1)"
   ]
  }
 ],
 "metadata": {
  "kernelspec": {
   "display_name": "Python 3",
   "language": "python",
   "name": "python3"
  },
  "language_info": {
   "codemirror_mode": {
    "name": "ipython",
    "version": 3
   },
   "file_extension": ".py",
   "mimetype": "text/x-python",
   "name": "python",
   "nbconvert_exporter": "python",
   "pygments_lexer": "ipython3",
   "version": "3.10.16"
  }
 },
 "nbformat": 4,
 "nbformat_minor": 2
}
